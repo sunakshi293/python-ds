{
 "cells": [
  {
   "cell_type": "code",
   "execution_count": 1,
   "id": "3c3b2be6-44e5-4e9f-90fe-4f9b244ea09d",
   "metadata": {},
   "outputs": [],
   "source": [
    "import pandas as pd"
   ]
  },
  {
   "cell_type": "code",
   "execution_count": 4,
   "id": "360bfaff-a256-45bb-ad76-d715efa5449c",
   "metadata": {},
   "outputs": [
    {
     "data": {
      "text/plain": [
       "np.int64(200)"
      ]
     },
     "execution_count": 4,
     "metadata": {},
     "output_type": "execute_result"
    }
   ],
   "source": [
    "#QUESTION 1\n",
    "data = pd.Series([100, 200, 300, 400], index=['x', 'y', 'z', 'w']) \n",
    "data.loc['y']\n"
   ]
  },
  {
   "cell_type": "code",
   "execution_count": 5,
   "id": "153c6494-0abe-4963-8e62-e099d80136ef",
   "metadata": {},
   "outputs": [
    {
     "data": {
      "text/plain": [
       "np.int64(200)"
      ]
     },
     "execution_count": 5,
     "metadata": {},
     "output_type": "execute_result"
    }
   ],
   "source": [
    "#QUESTION 2\n",
    "data = pd.Series([100, 200, 300, 400], index=['x', 'y', 'z', 'w']) \n",
    "data.iloc[1]\n"
   ]
  },
  {
   "cell_type": "code",
   "execution_count": 13,
   "id": "09e499f5-8ba3-4291-8a91-4255c4e8732d",
   "metadata": {},
   "outputs": [
    {
     "data": {
      "text/plain": [
       "x    100\n",
       "y    200\n",
       "z    300\n",
       "w    400\n",
       "dtype: int64"
      ]
     },
     "execution_count": 13,
     "metadata": {},
     "output_type": "execute_result"
    }
   ],
   "source": [
    "#QUESTION 3\n",
    "data = pd.Series([100, 200, 300, 400], index=['x', 'y', 'z', 'w'])\n",
    "data.loc['x' :'w']"
   ]
  },
  {
   "cell_type": "code",
   "execution_count": 8,
   "id": "0cff09ad-b30d-466b-b4de-24c495d520bc",
   "metadata": {},
   "outputs": [
    {
     "data": {
      "text/plain": [
       "np.int64(400)"
      ]
     },
     "execution_count": 8,
     "metadata": {},
     "output_type": "execute_result"
    }
   ],
   "source": [
    "#Question 4\n",
    "data = pd.Series([100, 200, 300, 400], index=['x', 'y', 'z', 'w'])\n",
    "data.loc['w']\n"
   ]
  },
  {
   "cell_type": "code",
   "execution_count": 20,
   "id": "0ddfc0c0-a624-438e-ad0c-966a485405c9",
   "metadata": {},
   "outputs": [
    {
     "data": {
      "text/plain": [
       "y    200\n",
       "z    300\n",
       "dtype: int64"
      ]
     },
     "execution_count": 20,
     "metadata": {},
     "output_type": "execute_result"
    }
   ],
   "source": [
    "#QUESTION 5\n",
    "data = pd.Series([100,200,300,400], index=['x','y','z','w'])\n",
    "data.loc['y':'z']\n"
   ]
  },
  {
   "cell_type": "code",
   "execution_count": 21,
   "id": "8feef0cd-826d-44bd-a878-c4920508bbe6",
   "metadata": {},
   "outputs": [
    {
     "data": {
      "text/plain": [
       "np.int64(300)"
      ]
     },
     "execution_count": 21,
     "metadata": {},
     "output_type": "execute_result"
    }
   ],
   "source": [
    " #QUESTION 6\n",
    "series1 = pd.Series([100,200,300,400], index=[1,2,3,4])\n",
    "series1.iloc[2] #position-based indexing"
   ]
  },
  {
   "cell_type": "code",
   "execution_count": 22,
   "id": "6b2dc284-d707-4e46-b3fc-46f60f6227d8",
   "metadata": {},
   "outputs": [
    {
     "data": {
      "text/plain": [
       "np.int64(200)"
      ]
     },
     "execution_count": 22,
     "metadata": {},
     "output_type": "execute_result"
    }
   ],
   "source": [
    "series1 = pd.Series([100,200,300,400], index=[1,2,3,4])\n",
    "series1.loc[2] #label-based indexing"
   ]
  },
  {
   "cell_type": "code",
   "execution_count": 23,
   "id": "22f77d5b-c56b-423e-8d6a-a48cf92aa5ed",
   "metadata": {},
   "outputs": [
    {
     "data": {
      "text/plain": [
       "np.int64(100)"
      ]
     },
     "execution_count": 23,
     "metadata": {},
     "output_type": "execute_result"
    }
   ],
   "source": [
    "#QUESTION 7\n",
    "data = pd.Series([100,200,300,400], index=['x','y','z','w'])\n",
    "data.x"
   ]
  },
  {
   "cell_type": "code",
   "execution_count": null,
   "id": "19563082-866e-4bd8-a4de-ef5da14c49bd",
   "metadata": {},
   "outputs": [],
   "source": []
  }
 ],
 "metadata": {
  "kernelspec": {
   "display_name": "Python 3 (ipykernel)",
   "language": "python",
   "name": "python3"
  },
  "language_info": {
   "codemirror_mode": {
    "name": "ipython",
    "version": 3
   },
   "file_extension": ".py",
   "mimetype": "text/x-python",
   "name": "python",
   "nbconvert_exporter": "python",
   "pygments_lexer": "ipython3",
   "version": "3.13.5"
  }
 },
 "nbformat": 4,
 "nbformat_minor": 5
}
